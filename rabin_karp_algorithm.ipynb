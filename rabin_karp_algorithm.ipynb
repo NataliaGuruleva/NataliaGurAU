{
 "cells": [
  {
   "cell_type": "code",
   "execution_count": 20,
   "metadata": {},
   "outputs": [
    {
     "name": "stdout",
     "output_type": "stream",
     "text": [
      "[215, 225, 235, 245]\n",
      "[215, 225, 235, 245]\n",
      "[215, 225, 235, 245]\n",
      "[215, 225, 235, 245]\n"
     ]
    }
   ],
   "source": [
    "t = \"\"\"Вместе шли они в сраженья через минные поля,\n",
    "на узлах сопротивленья славу поровну деля.\n",
    "Не страшили дождь и ночь их, и немало огневых\n",
    "подавили они точек, не считая запятых.\n",
    "Воевала дело зная та четверка храбрецов -\n",
    "Иваненко, Иванбаев, Иванидзе, Иванов.\"\"\"\n",
    "p = \"Иван\"\n",
    "def find_all_rabin_karp(text, pattern):\n",
    "    \"\"\"\n",
    "    Поиск всех вхождений алгоритмом Рабина-Карпа\n",
    "    И тихонько, между нами: на Питоне так обычно тоже не пишут! =)\n",
    "    \"\"\"\n",
    "    result = []\n",
    "    text = text + ' '\n",
    "    patternsum = sum(ord(s) for s in pattern)\n",
    "    textwindowsum = sum(ord(text[j]) for j in range(len(pattern)))\n",
    "    for i in range(len(text) - len(pattern)):\n",
    "        if patternsum == textwindowsum:\n",
    "            if text.startswith(pattern, i):\n",
    "                result.append(i)\n",
    "        textwindowsum = textwindowsum - ord(text[i]) + ord(text[i + len(pattern)])\n",
    "    return result\n",
    "    # Дальше двигаем по тексту окно и проверяем, совпали ли суммы.\n",
    "    # Когда совпадают — проверяем уже точно, что text.startswith(pattern, i), и запоминаем, если да\n",
    "    # ну и т.д....\n",
    "    raise NotImplementedError(f\"Мы его не написали, но зато знаем, что сумма номеров символов образца равна {patternsum}\")\n",
    "\n",
    "print(find_all_std(t, p))\n",
    "print(find_all_naïve_1(t, p))\n",
    "print(find_all_naïve_2(t, p))\n",
    "print(find_all_rabin_karp(t, p))"
   ]
  }
 ],
 "metadata": {
  "kernelspec": {
   "display_name": "Python 3",
   "language": "python",
   "name": "python3"
  },
  "language_info": {
   "codemirror_mode": {
    "name": "ipython",
    "version": 3
   },
   "file_extension": ".py",
   "mimetype": "text/x-python",
   "name": "python",
   "nbconvert_exporter": "python",
   "pygments_lexer": "ipython3",
   "version": "3.8.6"
  }
 },
 "nbformat": 4,
 "nbformat_minor": 4
}
