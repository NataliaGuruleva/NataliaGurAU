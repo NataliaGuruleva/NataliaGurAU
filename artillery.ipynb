{
 "cells": [
  {
   "cell_type": "markdown",
   "metadata": {},
   "source": [
    "# Классы\n",
    "\n",
    "Класс — тип, опрределённый программистом. Может предоставлять наружу поля (переменные специального вида) и методы (функции специального вида). Попробуем определить класс — тело, у которого есть две координаты и скорость по двум направлениям.\n",
    "\n",
    "Для того, чтобы создать поле, достаточно ему что-то присовить. В питоне это можно сделать в любой момент, в том числе и «снаружи» от объекта. Но лучше инициализировать поля специальным методом — конструктором. В Питоне конструктор имеет имя `__init__`. У методов, за исключением статических, есть параметр `self`, находящийся в списке параметров первым. Если мы вызываем метод объекта, как `obj.meth(1,2,3)`, то, включая `self`, метод `meth` получит параметры `obj, 1, 2, 3`. Посмотрите, как `__init__` присваивает полям объекта `self` значения своих аргументов.\n",
    "\n",
    "Также поля можно использовать и изменять, как в методе `advance`."
   ]
  },
  {
   "cell_type": "code",
   "execution_count": 5,
   "metadata": {},
   "outputs": [
    {
     "data": {
      "image/png": "[encoded data removed]",
      "text/plain": [
       "<Figure size 432x288 with 1 Axes>"
      ]
     },
     "metadata": {
      "needs_background": "light"
     },
     "output_type": "display_data"
    }
   ],
   "source": [
    "import math\n",
    "import numpy as np\n",
    "\n",
    "MODEL_G = 9.81\n",
    "MODEL_DT = 0.001\n",
    "MODEL_DM = 0.2\n",
    "MODEL_U = 30\n",
    "\n",
    "class Body:\n",
    "    def __init__(self, x, y, vx, vy):\n",
    "        \n",
    "        self.x = x\n",
    "        self.y = y\n",
    "        self.vx = vx\n",
    "        self.vy = vy\n",
    "        \n",
    "        self.trajectory_x = []\n",
    "        self.trajectory_y = []\n",
    "        \n",
    "\n",
    "    def advance(self):\n",
    "\n",
    "        self.trajectory_x.append(self.x)\n",
    "        self.trajectory_y.append(self.y)\n",
    "        \n",
    "        self.x += self.vx * MODEL_DT\n",
    "        self.y += self.vy * MODEL_DT\n",
    "        self.vy -= MODEL_G * MODEL_DT\n",
    "        \n",
    "class Rocket(Body):\n",
    "    def __init__(self, x, y):\n",
    "        super().__init__(x, y, 10, 10) # Вызовем конструктор предка — тела, т.к. он для ракеты актуален\n",
    "        self.m = 100\n",
    "\n",
    "    def advance(self):\n",
    "        super().advance() # вызовем метод предка — тела, т.к. и он для ракеты актуален.\n",
    "        if self.m > 50:\n",
    "            self.m -= MODEL_DM\n",
    "            DV = MODEL_U * MODEL_DM / self.m\n",
    "            V = (self.vx**2 + self.vy**2)**0.5\n",
    "            self.vx += DV * self.vx / V\n",
    "            self.vy += DV * self.vy / V\n",
    "\n",
    "np.sin\n",
    "\n",
    "b = Body(0, 0, 9, 9)\n",
    "r = Rocket(0, 0)\n",
    "\n",
    "bodies = [b, r]\n",
    "# Дальше мы уже не будем думать, кто тут ёжик, кто ракета, а кто котлета —\n",
    "# благодаря возможностям ООП будем просто работать со списком тел\n",
    "\n",
    "for t in np.r_[0:2:MODEL_DT]: # для всех временных отрезков\n",
    "    for b in bodies: # для всех тел\n",
    "        b.advance() # выполним шаг\n",
    "        \n",
    "%matplotlib inline\n",
    "from matplotlib import pyplot as pp\n",
    "\n",
    "for b in bodies: # для всех тел\n",
    "    pp.plot(b.trajectory_x, b.trajectory_y) # нарисуем их траектории"
   ]
  },
  {
   "cell_type": "code",
   "execution_count": null,
   "metadata": {},
   "outputs": [],
   "source": []
  }
 ],
 "metadata": {
  "kernelspec": {
   "display_name": "Python 3",
   "language": "python",
   "name": "python3"
  },
  "language_info": {
   "codemirror_mode": {
    "name": "ipython",
    "version": 3
   },
   "file_extension": ".py",
   "mimetype": "text/x-python",
   "name": "python",
   "nbconvert_exporter": "python",
   "pygments_lexer": "ipython3",
   "version": "3.8.6"
  }
 },
 "nbformat": 4,
 "nbformat_minor": 4
}
